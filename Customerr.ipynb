{
 "cells": [
  {
   "cell_type": "code",
   "execution_count": 1,
   "metadata": {},
   "outputs": [
    {
     "name": "stdout",
     "output_type": "stream",
     "text": [
      "Requirement already satisfied: pyforest in c:\\users\\lenovo\\desktop\\sql+python+powerbi project\\.venv\\lib\\site-packages (1.1.2)\n",
      "Note: you may need to restart the kernel to use updated packages.\n"
     ]
    }
   ],
   "source": [
    "pip install pyforest "
   ]
  },
  {
   "cell_type": "code",
   "execution_count": 2,
   "metadata": {},
   "outputs": [
    {
     "name": "stdout",
     "output_type": "stream",
     "text": [
      "Requirement already satisfied: pandas in c:\\users\\lenovo\\desktop\\sql+python+powerbi project\\.venv\\lib\\site-packages (2.2.2)\n",
      "Requirement already satisfied: numpy>=1.22.4 in c:\\users\\lenovo\\desktop\\sql+python+powerbi project\\.venv\\lib\\site-packages (from pandas) (2.1.1)\n",
      "Requirement already satisfied: python-dateutil>=2.8.2 in c:\\users\\lenovo\\desktop\\sql+python+powerbi project\\.venv\\lib\\site-packages (from pandas) (2.9.0.post0)\n",
      "Requirement already satisfied: pytz>=2020.1 in c:\\users\\lenovo\\desktop\\sql+python+powerbi project\\.venv\\lib\\site-packages (from pandas) (2024.2)\n",
      "Requirement already satisfied: tzdata>=2022.7 in c:\\users\\lenovo\\desktop\\sql+python+powerbi project\\.venv\\lib\\site-packages (from pandas) (2024.1)\n",
      "Requirement already satisfied: six>=1.5 in c:\\users\\lenovo\\desktop\\sql+python+powerbi project\\.venv\\lib\\site-packages (from python-dateutil>=2.8.2->pandas) (1.16.0)\n",
      "Note: you may need to restart the kernel to use updated packages.\n"
     ]
    }
   ],
   "source": [
    "pip install pandas"
   ]
  },
  {
   "cell_type": "code",
   "execution_count": 3,
   "metadata": {},
   "outputs": [
    {
     "name": "stdout",
     "output_type": "stream",
     "text": [
      "Requirement already satisfied: sqlalchemy in c:\\users\\lenovo\\desktop\\sql+python+powerbi project\\.venv\\lib\\site-packages (2.0.34)\n",
      "Requirement already satisfied: typing-extensions>=4.6.0 in c:\\users\\lenovo\\desktop\\sql+python+powerbi project\\.venv\\lib\\site-packages (from sqlalchemy) (4.12.2)\n",
      "Requirement already satisfied: greenlet!=0.4.17 in c:\\users\\lenovo\\desktop\\sql+python+powerbi project\\.venv\\lib\\site-packages (from sqlalchemy) (3.1.0)\n",
      "Note: you may need to restart the kernel to use updated packages.\n"
     ]
    }
   ],
   "source": [
    "pip install sqlalchemy\n"
   ]
  },
  {
   "cell_type": "code",
   "execution_count": 4,
   "metadata": {},
   "outputs": [],
   "source": [
    "import os\n",
    "import pandas as pd\n",
    "from sqlalchemy import create_engine"
   ]
  },
  {
   "cell_type": "code",
   "execution_count": null,
   "metadata": {},
   "outputs": [
    {
     "name": "stdout",
     "output_type": "stream",
     "text": [
      "Collecting psycopg2\n",
      "  Downloading psycopg2-2.9.9-cp310-cp310-win_amd64.whl.metadata (4.5 kB)\n",
      "Downloading psycopg2-2.9.9-cp310-cp310-win_amd64.whl (1.2 MB)\n",
      "   ---------------------------------------- 0.0/1.2 MB ? eta -:--:--\n",
      "   --------- ------------------------------ 0.3/1.2 MB ? eta -:--:--\n",
      "   ------------------ --------------------- 0.5/1.2 MB 1.9 MB/s eta 0:00:01\n",
      "   ------------------------------------ --- 1.0/1.2 MB 1.9 MB/s eta 0:00:01\n",
      "   ---------------------------------------- 1.2/1.2 MB 2.1 MB/s eta 0:00:00\n",
      "Installing collected packages: psycopg2\n",
      "Successfully installed psycopg2-2.9.9\n",
      "Note: you may need to restart the kernel to use updated packages.\n"
     ]
    }
   ],
   "source": [
    "pip install psycopg2\n"
   ]
  },
  {
   "cell_type": "markdown",
   "metadata": {},
   "source": []
  },
  {
   "cell_type": "code",
   "execution_count": 8,
   "metadata": {},
   "outputs": [
    {
     "name": "stdout",
     "output_type": "stream",
     "text": [
      "Successfully loaded C:\\Users\\lenovo\\Desktop\\SQL+PYTHON+POWERBI PROJECT\\data\\address.csv into table address\n",
      "Successfully loaded C:\\Users\\lenovo\\Desktop\\SQL+PYTHON+POWERBI PROJECT\\data\\customers.csv into table customers\n",
      "Successfully loaded C:\\Users\\lenovo\\Desktop\\SQL+PYTHON+POWERBI PROJECT\\data\\ingredient.csv into table ingredient\n",
      "Successfully loaded C:\\Users\\lenovo\\Desktop\\SQL+PYTHON+POWERBI PROJECT\\data\\inventory.csv into table inventory\n",
      "Successfully loaded C:\\Users\\lenovo\\Desktop\\SQL+PYTHON+POWERBI PROJECT\\data\\item.csv into table item\n",
      "Successfully loaded C:\\Users\\lenovo\\Desktop\\SQL+PYTHON+POWERBI PROJECT\\data\\orders.csv into table orders\n",
      "Successfully loaded C:\\Users\\lenovo\\Desktop\\SQL+PYTHON+POWERBI PROJECT\\data\\recipe.csv into table recipe\n",
      "Successfully loaded C:\\Users\\lenovo\\Desktop\\SQL+PYTHON+POWERBI PROJECT\\data\\rota.csv into table rota\n",
      "Successfully loaded C:\\Users\\lenovo\\Desktop\\SQL+PYTHON+POWERBI PROJECT\\data\\shift.csv into table shift\n",
      "Successfully loaded C:\\Users\\lenovo\\Desktop\\SQL+PYTHON+POWERBI PROJECT\\data\\staff.csv into table staff\n"
     ]
    }
   ],
   "source": [
    "import os\n",
    "import pandas as pd\n",
    "from sqlalchemy import create_engine\n",
    "\n",
    "# Define the PostgreSQL connection details\n",
    "db_user = 'postgres'  # username                            \n",
    "db_password = 'Sharon@44'  # password, URL encode special characters\n",
    "db_password_encoded = db_password.replace('@', '%40')  # Encode '@' as '%40'\n",
    "db_host = 'localhost'\n",
    "db_port = '5432'\n",
    "db_name = 'sales_inventory'\n",
    "\n",
    "# Directory containing your CSV files\n",
    "#csv_directory = r'C:\\Users\\lenovo\\Desktop\\SQL+PYTHON+POWERBI PROJECT'\n",
    "csv_directory = r\"C:\\Users\\lenovo\\Desktop\\SQL+PYTHON+POWERBI PROJECT\\data\"\n",
    "\n",
    "# Use the encoded password in the connection string\n",
    "engine = create_engine(f'postgresql://{db_user}:{db_password_encoded}@{db_host}:{db_port}/{db_name}')\n",
    "\n",
    "def load_csv_to_postgres(file_path, table_name):\n",
    "    \"\"\"Load a single CSV file to PostgreSQL\"\"\"\n",
    "    try:\n",
    "        # Read CSV file into a DataFrame\n",
    "        df = pd.read_csv(file_path)\n",
    "\n",
    "        # Push DataFrame to PostgreSQL table\n",
    "        df.to_sql(table_name, engine, index=False, if_exists='replace')  # Replace 'replace' with 'append' if you want to add data\n",
    "\n",
    "        print(f\"Successfully loaded {file_path} into table {table_name}\")\n",
    "    except Exception as e:\n",
    "        print(f\"Failed to load {file_path}: {e}\")\n",
    "\n",
    "def push_all_csvs_to_postgres():\n",
    "    \"\"\"Iterate through CSV files and push them to PostgreSQL\"\"\"\n",
    "    for file_name in os.listdir(csv_directory):\n",
    "        if file_name.endswith('.csv'):\n",
    "            file_path = os.path.join(csv_directory, file_name)\n",
    "            table_name = os.path.splitext(file_name)[0]  # Use file name (without extension) as table name\n",
    "\n",
    "            # Load each CSV into its respective table in PostgreSQL\n",
    "            load_csv_to_postgres(file_path, table_name)\n",
    "\n",
    "if __name__ == \"__main__\":\n",
    "    push_all_csvs_to_postgres()\n"
   ]
  },
  {
   "cell_type": "code",
   "execution_count": null,
   "metadata": {},
   "outputs": [],
   "source": []
  },
  {
   "cell_type": "code",
   "execution_count": null,
   "metadata": {},
   "outputs": [],
   "source": []
  },
  {
   "cell_type": "code",
   "execution_count": null,
   "metadata": {},
   "outputs": [],
   "source": []
  },
  {
   "cell_type": "code",
   "execution_count": null,
   "metadata": {},
   "outputs": [],
   "source": []
  }
 ],
 "metadata": {
  "kernelspec": {
   "display_name": ".venv",
   "language": "python",
   "name": "python3"
  },
  "language_info": {
   "codemirror_mode": {
    "name": "ipython",
    "version": 3
   },
   "file_extension": ".py",
   "mimetype": "text/x-python",
   "name": "python",
   "nbconvert_exporter": "python",
   "pygments_lexer": "ipython3",
   "version": "3.10.4"
  }
 },
 "nbformat": 4,
 "nbformat_minor": 2
}
